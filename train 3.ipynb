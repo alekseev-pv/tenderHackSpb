{
 "cells": [
  {
   "cell_type": "code",
   "execution_count": 5,
   "metadata": {},
   "outputs": [
    {
     "name": "stderr",
     "output_type": "stream",
     "text": [
      "C:\\Users\\aleks\\AppData\\Local\\Continuum\\anaconda3\\lib\\site-packages\\sklearn\\linear_model\\logistic.py:432: FutureWarning: Default solver will be changed to 'lbfgs' in 0.22. Specify a solver to silence this warning.\n",
      "  FutureWarning)\n",
      "C:\\Users\\aleks\\AppData\\Local\\Continuum\\anaconda3\\lib\\site-packages\\sklearn\\linear_model\\logistic.py:469: FutureWarning: Default multi_class will be changed to 'auto' in 0.22. Specify the multi_class option to silence this warning.\n",
      "  \"this warning.\", FutureWarning)\n",
      "[Parallel(n_jobs=1)]: Using backend SequentialBackend with 1 concurrent workers.\n",
      "C:\\Users\\aleks\\AppData\\Local\\Continuum\\anaconda3\\lib\\site-packages\\sklearn\\model_selection\\_split.py:657: Warning: The least populated class in y has only 2 members, which is too few. The minimum number of members in any class cannot be less than n_splits=3.\n",
      "  % (min_groups, self.n_splits)), Warning)\n",
      "C:\\Users\\aleks\\AppData\\Local\\Continuum\\anaconda3\\lib\\site-packages\\sklearn\\linear_model\\logistic.py:432: FutureWarning: Default solver will be changed to 'lbfgs' in 0.22. Specify a solver to silence this warning.\n",
      "  FutureWarning)\n",
      "C:\\Users\\aleks\\AppData\\Local\\Continuum\\anaconda3\\lib\\site-packages\\sklearn\\linear_model\\logistic.py:469: FutureWarning: Default multi_class will be changed to 'auto' in 0.22. Specify the multi_class option to silence this warning.\n",
      "  \"this warning.\", FutureWarning)\n"
     ]
    },
    {
     "name": "stdout",
     "output_type": "stream",
     "text": [
      "[CV]  ................................................................\n"
     ]
    },
    {
     "name": "stderr",
     "output_type": "stream",
     "text": [
      "C:\\Users\\aleks\\AppData\\Local\\Continuum\\anaconda3\\lib\\site-packages\\sklearn\\metrics\\classification.py:1437: UndefinedMetricWarning: Precision is ill-defined and being set to 0.0 in labels with no predicted samples.\n",
      "  'precision', 'predicted', average, warn_for)\n",
      "[Parallel(n_jobs=1)]: Done   1 out of   1 | elapsed:  1.1min remaining:    0.0s\n"
     ]
    },
    {
     "name": "stdout",
     "output_type": "stream",
     "text": [
      "[CV] .................................... , score=0.789, total= 1.1min\n",
      "[CV]  ................................................................\n",
      "[CV] .................................... , score=0.786, total= 1.2min\n",
      "[CV]  ................................................................\n"
     ]
    },
    {
     "name": "stderr",
     "output_type": "stream",
     "text": [
      "[Parallel(n_jobs=1)]: Done   2 out of   2 | elapsed:  2.3min remaining:    0.0s\n"
     ]
    },
    {
     "name": "stdout",
     "output_type": "stream",
     "text": [
      "[CV] .................................... , score=0.787, total= 1.2min\n",
      "[0.78904772 0.78564339 0.78696336]\n",
      "dump saved!\n"
     ]
    },
    {
     "name": "stderr",
     "output_type": "stream",
     "text": [
      "[Parallel(n_jobs=1)]: Done   3 out of   3 | elapsed:  3.4min finished\n"
     ]
    }
   ],
   "source": [
    "import numpy as np\n",
    "import pandas as pd\n",
    "\n",
    "from sklearn.feature_extraction.text import TfidfVectorizer\n",
    "\n",
    "from sklearn.externals import joblib\n",
    "\n",
    "\n",
    "#cat = 3\n",
    "\n",
    "vse13 = pd.read_csv('vse13.csv',usecols=['Наменование','Вид продукции'])\n",
    "\n",
    "ddd3={}\n",
    "for k,i in enumerate(vse13['Вид продукции'].unique()):\n",
    "    ddd3[i]=k\n",
    "\n",
    "np.save('ddd3.npy', ddd3)\n",
    "\n",
    "\n",
    "\n",
    "vse13['Вид продукции'] = vse13['Вид продукции'].apply(lambda x: ddd3[x])\n",
    "\n",
    "\n",
    "\n",
    "cat_y = vse13['Вид продукции'].values\n",
    "train = vse13['Наменование'].astype('str')\n",
    "\n",
    "\n",
    "vectorizer = TfidfVectorizer(analyzer='char_wb', ngram_range=(2, 3), max_features=4000)\n",
    "\n",
    "vectorizer.fit(train)\n",
    "\n",
    "X = vectorizer.transform(train)\n",
    "\n",
    "\n",
    "\n",
    "from sklearn.model_selection import cross_val_score\n",
    "from sklearn import linear_model\n",
    "\n",
    "from sklearn.utils import shuffle\n",
    "X,Y = shuffle(X,cat_y)\n",
    "\n",
    "\n",
    "#lg = linear_model.RidgeClassifier()\n",
    "\n",
    "lg = linear_model.LogisticRegression()\n",
    "\n",
    "\n",
    "lg.fit(X,Y)\n",
    "\n",
    "\n",
    "\n",
    "from sklearn.metrics import precision_score, make_scorer\n",
    "scoring_a = make_scorer(precision_score, average='weighted')\n",
    "    \n",
    "print(cross_val_score(lg,X,Y, cv=3, scoring=scoring_a, verbose=3))\n",
    "\n",
    "\n",
    "\n",
    "filename = 'vse13.joblib.pkl'\n",
    "_ = joblib.dump(lg, filename, compress=9)\n",
    "\n",
    "\n",
    "print(\"dump saved!\")\n",
    "\n",
    "\n"
   ]
  }
 ],
 "metadata": {
  "kernelspec": {
   "display_name": "Python 3",
   "language": "python",
   "name": "python3"
  },
  "language_info": {
   "codemirror_mode": {
    "name": "ipython",
    "version": 3
   },
   "file_extension": ".py",
   "mimetype": "text/x-python",
   "name": "python",
   "nbconvert_exporter": "python",
   "pygments_lexer": "ipython3",
   "version": "3.7.3"
  }
 },
 "nbformat": 4,
 "nbformat_minor": 2
}
